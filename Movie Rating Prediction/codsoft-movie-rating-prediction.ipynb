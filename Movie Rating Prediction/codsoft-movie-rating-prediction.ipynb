{
 "cells": [
  {
   "cell_type": "code",
   "execution_count": 1,
   "id": "e90fbfa6",
   "metadata": {
    "execution": {
     "iopub.execute_input": "2024-06-14T05:25:12.552961Z",
     "iopub.status.busy": "2024-06-14T05:25:12.552558Z",
     "iopub.status.idle": "2024-06-14T05:25:12.565365Z",
     "shell.execute_reply": "2024-06-14T05:25:12.564293Z"
    },
    "papermill": {
     "duration": 0.026222,
     "end_time": "2024-06-14T05:25:12.567821",
     "exception": false,
     "start_time": "2024-06-14T05:25:12.541599",
     "status": "completed"
    },
    "tags": []
   },
   "outputs": [],
   "source": [
    "from warnings import filterwarnings\n",
    "filterwarnings('ignore')"
   ]
  },
  {
   "cell_type": "markdown",
   "id": "56d23dd1",
   "metadata": {
    "papermill": {
     "duration": 0.008724,
     "end_time": "2024-06-14T05:25:12.585705",
     "exception": false,
     "start_time": "2024-06-14T05:25:12.576981",
     "status": "completed"
    },
    "tags": []
   },
   "source": [
    "# **MOVIE RATING PREDICTION**"
   ]
  },
  {
   "cell_type": "markdown",
   "id": "13fea11e",
   "metadata": {
    "papermill": {
     "duration": 0.008539,
     "end_time": "2024-06-14T05:25:12.603076",
     "exception": false,
     "start_time": "2024-06-14T05:25:12.594537",
     "status": "completed"
    },
    "tags": []
   },
   "source": [
    "## **Import Libraries**"
   ]
  },
  {
   "cell_type": "code",
   "execution_count": 2,
   "id": "ac3f0b1a",
   "metadata": {
    "execution": {
     "iopub.execute_input": "2024-06-14T05:25:12.622910Z",
     "iopub.status.busy": "2024-06-14T05:25:12.621948Z",
     "iopub.status.idle": "2024-06-14T05:25:15.008790Z",
     "shell.execute_reply": "2024-06-14T05:25:15.007801Z"
    },
    "papermill": {
     "duration": 2.399335,
     "end_time": "2024-06-14T05:25:15.011418",
     "exception": false,
     "start_time": "2024-06-14T05:25:12.612083",
     "status": "completed"
    },
    "tags": []
   },
   "outputs": [],
   "source": [
    "import pandas as pd\n",
    "from sklearn.model_selection import train_test_split\n",
    "from sklearn.ensemble import RandomForestRegressor\n",
    "from sklearn.tree import DecisionTreeRegressor\n",
    "from sklearn.metrics import mean_squared_error,r2_score,accuracy_score\n",
    "from sklearn.model_selection import cross_val_score\n",
    "from sklearn.neighbors import KNeighborsRegressor"
   ]
  },
  {
   "cell_type": "markdown",
   "id": "3a2a3fb7",
   "metadata": {
    "papermill": {
     "duration": 0.00851,
     "end_time": "2024-06-14T05:25:15.028813",
     "exception": false,
     "start_time": "2024-06-14T05:25:15.020303",
     "status": "completed"
    },
    "tags": []
   },
   "source": [
    "## **Load Dataset**"
   ]
  },
  {
   "cell_type": "code",
   "execution_count": 3,
   "id": "1655f700",
   "metadata": {
    "execution": {
     "iopub.execute_input": "2024-06-14T05:25:15.048346Z",
     "iopub.status.busy": "2024-06-14T05:25:15.047381Z",
     "iopub.status.idle": "2024-06-14T05:25:15.177707Z",
     "shell.execute_reply": "2024-06-14T05:25:15.176489Z"
    },
    "papermill": {
     "duration": 0.142887,
     "end_time": "2024-06-14T05:25:15.180247",
     "exception": false,
     "start_time": "2024-06-14T05:25:15.037360",
     "status": "completed"
    },
    "tags": []
   },
   "outputs": [
    {
     "data": {
      "text/html": [
       "<div>\n",
       "<style scoped>\n",
       "    .dataframe tbody tr th:only-of-type {\n",
       "        vertical-align: middle;\n",
       "    }\n",
       "\n",
       "    .dataframe tbody tr th {\n",
       "        vertical-align: top;\n",
       "    }\n",
       "\n",
       "    .dataframe thead th {\n",
       "        text-align: right;\n",
       "    }\n",
       "</style>\n",
       "<table border=\"1\" class=\"dataframe\">\n",
       "  <thead>\n",
       "    <tr style=\"text-align: right;\">\n",
       "      <th></th>\n",
       "      <th>Name</th>\n",
       "      <th>Year</th>\n",
       "      <th>Duration</th>\n",
       "      <th>Genre</th>\n",
       "      <th>Rating</th>\n",
       "      <th>Votes</th>\n",
       "      <th>Director</th>\n",
       "      <th>Actor 1</th>\n",
       "      <th>Actor 2</th>\n",
       "      <th>Actor 3</th>\n",
       "    </tr>\n",
       "  </thead>\n",
       "  <tbody>\n",
       "    <tr>\n",
       "      <th>0</th>\n",
       "      <td>NaN</td>\n",
       "      <td>NaN</td>\n",
       "      <td>NaN</td>\n",
       "      <td>Drama</td>\n",
       "      <td>NaN</td>\n",
       "      <td>NaN</td>\n",
       "      <td>J.S. Randhawa</td>\n",
       "      <td>Manmauji</td>\n",
       "      <td>Birbal</td>\n",
       "      <td>Rajendra Bhatia</td>\n",
       "    </tr>\n",
       "    <tr>\n",
       "      <th>1</th>\n",
       "      <td>#Gadhvi (He thought he was Gandhi)</td>\n",
       "      <td>(2019)</td>\n",
       "      <td>109 min</td>\n",
       "      <td>Drama</td>\n",
       "      <td>7.0</td>\n",
       "      <td>8</td>\n",
       "      <td>Gaurav Bakshi</td>\n",
       "      <td>Rasika Dugal</td>\n",
       "      <td>Vivek Ghamande</td>\n",
       "      <td>Arvind Jangid</td>\n",
       "    </tr>\n",
       "    <tr>\n",
       "      <th>2</th>\n",
       "      <td>#Homecoming</td>\n",
       "      <td>(2021)</td>\n",
       "      <td>90 min</td>\n",
       "      <td>Drama, Musical</td>\n",
       "      <td>NaN</td>\n",
       "      <td>NaN</td>\n",
       "      <td>Soumyajit Majumdar</td>\n",
       "      <td>Sayani Gupta</td>\n",
       "      <td>Plabita Borthakur</td>\n",
       "      <td>Roy Angana</td>\n",
       "    </tr>\n",
       "    <tr>\n",
       "      <th>3</th>\n",
       "      <td>#Yaaram</td>\n",
       "      <td>(2019)</td>\n",
       "      <td>110 min</td>\n",
       "      <td>Comedy, Romance</td>\n",
       "      <td>4.4</td>\n",
       "      <td>35</td>\n",
       "      <td>Ovais Khan</td>\n",
       "      <td>Prateik</td>\n",
       "      <td>Ishita Raj</td>\n",
       "      <td>Siddhant Kapoor</td>\n",
       "    </tr>\n",
       "    <tr>\n",
       "      <th>4</th>\n",
       "      <td>...And Once Again</td>\n",
       "      <td>(2010)</td>\n",
       "      <td>105 min</td>\n",
       "      <td>Drama</td>\n",
       "      <td>NaN</td>\n",
       "      <td>NaN</td>\n",
       "      <td>Amol Palekar</td>\n",
       "      <td>Rajat Kapoor</td>\n",
       "      <td>Rituparna Sengupta</td>\n",
       "      <td>Antara Mali</td>\n",
       "    </tr>\n",
       "  </tbody>\n",
       "</table>\n",
       "</div>"
      ],
      "text/plain": [
       "                                 Name    Year Duration            Genre  \\\n",
       "0                                 NaN     NaN      NaN            Drama   \n",
       "1  #Gadhvi (He thought he was Gandhi)  (2019)  109 min            Drama   \n",
       "2                         #Homecoming  (2021)   90 min   Drama, Musical   \n",
       "3                             #Yaaram  (2019)  110 min  Comedy, Romance   \n",
       "4                   ...And Once Again  (2010)  105 min            Drama   \n",
       "\n",
       "   Rating Votes            Director       Actor 1             Actor 2  \\\n",
       "0     NaN   NaN       J.S. Randhawa      Manmauji              Birbal   \n",
       "1     7.0     8       Gaurav Bakshi  Rasika Dugal      Vivek Ghamande   \n",
       "2     NaN   NaN  Soumyajit Majumdar  Sayani Gupta   Plabita Borthakur   \n",
       "3     4.4    35          Ovais Khan       Prateik          Ishita Raj   \n",
       "4     NaN   NaN        Amol Palekar  Rajat Kapoor  Rituparna Sengupta   \n",
       "\n",
       "           Actor 3  \n",
       "0  Rajendra Bhatia  \n",
       "1    Arvind Jangid  \n",
       "2       Roy Angana  \n",
       "3  Siddhant Kapoor  \n",
       "4      Antara Mali  "
      ]
     },
     "execution_count": 3,
     "metadata": {},
     "output_type": "execute_result"
    }
   ],
   "source": [
    "df = pd.read_csv('/kaggle/input/imdb-india-movies/IMDb Movies India.csv',na_values=(' '),encoding='latin-1')\n",
    "df.head()"
   ]
  },
  {
   "cell_type": "markdown",
   "id": "e3e0acd2",
   "metadata": {
    "papermill": {
     "duration": 0.008932,
     "end_time": "2024-06-14T05:25:15.198384",
     "exception": false,
     "start_time": "2024-06-14T05:25:15.189452",
     "status": "completed"
    },
    "tags": []
   },
   "source": [
    "## **EDA**"
   ]
  },
  {
   "cell_type": "code",
   "execution_count": 4,
   "id": "2a0fa73a",
   "metadata": {
    "execution": {
     "iopub.execute_input": "2024-06-14T05:25:15.218557Z",
     "iopub.status.busy": "2024-06-14T05:25:15.218158Z",
     "iopub.status.idle": "2024-06-14T05:25:15.273059Z",
     "shell.execute_reply": "2024-06-14T05:25:15.271954Z"
    },
    "papermill": {
     "duration": 0.068951,
     "end_time": "2024-06-14T05:25:15.276388",
     "exception": false,
     "start_time": "2024-06-14T05:25:15.207437",
     "status": "completed"
    },
    "tags": []
   },
   "outputs": [
    {
     "name": "stdout",
     "output_type": "stream",
     "text": [
      "1. Columns :\n",
      " Index(['Name', 'Year', 'Duration', 'Genre', 'Rating', 'Votes', 'Director',\n",
      "       'Actor 1', 'Actor 2', 'Actor 3'],\n",
      "      dtype='object')\n",
      "\n",
      "2. Shape :  (15503, 10)\n",
      "<bound method DataFrame.info of                                      Name    Year Duration            Genre  \\\n",
      "0                                     NaN     NaN      NaN            Drama   \n",
      "1      #Gadhvi (He thought he was Gandhi)  (2019)  109 min            Drama   \n",
      "2                             #Homecoming  (2021)   90 min   Drama, Musical   \n",
      "3                                 #Yaaram  (2019)  110 min  Comedy, Romance   \n",
      "4                       ...And Once Again  (2010)  105 min            Drama   \n",
      "...                                   ...     ...      ...              ...   \n",
      "15504                 Zulm Ko Jala Doonga  (1988)      NaN           Action   \n",
      "15505                               Zulmi  (1999)  129 min    Action, Drama   \n",
      "15506                           Zulmi Raj  (2005)      NaN           Action   \n",
      "15507                       Zulmi Shikari  (1988)      NaN           Action   \n",
      "15508                        Zulm-O-Sitam  (1998)  130 min    Action, Drama   \n",
      "\n",
      "       Rating Votes            Director           Actor 1             Actor 2  \\\n",
      "0         NaN   NaN       J.S. Randhawa          Manmauji              Birbal   \n",
      "1         7.0     8       Gaurav Bakshi      Rasika Dugal      Vivek Ghamande   \n",
      "2         NaN   NaN  Soumyajit Majumdar      Sayani Gupta   Plabita Borthakur   \n",
      "3         4.4    35          Ovais Khan           Prateik          Ishita Raj   \n",
      "4         NaN   NaN        Amol Palekar      Rajat Kapoor  Rituparna Sengupta   \n",
      "...       ...   ...                 ...               ...                 ...   \n",
      "15504     4.6    11       Mahendra Shah  Naseeruddin Shah       Sumeet Saigal   \n",
      "15505     4.5   655          Kuku Kohli      Akshay Kumar      Twinkle Khanna   \n",
      "15506     NaN   NaN          Kiran Thej   Sangeeta Tiwari                 NaN   \n",
      "15507     NaN   NaN                 NaN               NaN                 NaN   \n",
      "15508     6.2    20        K.C. Bokadia        Dharmendra          Jaya Prada   \n",
      "\n",
      "               Actor 3  \n",
      "0      Rajendra Bhatia  \n",
      "1        Arvind Jangid  \n",
      "2           Roy Angana  \n",
      "3      Siddhant Kapoor  \n",
      "4          Antara Mali  \n",
      "...                ...  \n",
      "15504    Suparna Anand  \n",
      "15505      Aruna Irani  \n",
      "15506              NaN  \n",
      "15507              NaN  \n",
      "15508      Arjun Sarja  \n",
      "\n",
      "[15503 rows x 10 columns]>\n"
     ]
    }
   ],
   "source": [
    "print(\"1. Columns :\\n\",df.columns)\n",
    "df.drop_duplicates(inplace=True)\n",
    "print(\"\\n2. Shape : \",df.shape)\n",
    "print(df.info)"
   ]
  },
  {
   "cell_type": "code",
   "execution_count": 5,
   "id": "fc7daa2c",
   "metadata": {
    "execution": {
     "iopub.execute_input": "2024-06-14T05:25:15.298222Z",
     "iopub.status.busy": "2024-06-14T05:25:15.297796Z",
     "iopub.status.idle": "2024-06-14T05:25:15.319517Z",
     "shell.execute_reply": "2024-06-14T05:25:15.318411Z"
    },
    "papermill": {
     "duration": 0.035332,
     "end_time": "2024-06-14T05:25:15.321882",
     "exception": false,
     "start_time": "2024-06-14T05:25:15.286550",
     "status": "completed"
    },
    "tags": []
   },
   "outputs": [
    {
     "data": {
      "text/html": [
       "<div>\n",
       "<style scoped>\n",
       "    .dataframe tbody tr th:only-of-type {\n",
       "        vertical-align: middle;\n",
       "    }\n",
       "\n",
       "    .dataframe tbody tr th {\n",
       "        vertical-align: top;\n",
       "    }\n",
       "\n",
       "    .dataframe thead th {\n",
       "        text-align: right;\n",
       "    }\n",
       "</style>\n",
       "<table border=\"1\" class=\"dataframe\">\n",
       "  <thead>\n",
       "    <tr style=\"text-align: right;\">\n",
       "      <th></th>\n",
       "      <th>Year</th>\n",
       "      <th>Genre</th>\n",
       "      <th>Rating</th>\n",
       "      <th>Votes</th>\n",
       "      <th>Director</th>\n",
       "      <th>Actor 1</th>\n",
       "      <th>Actor 2</th>\n",
       "      <th>Actor 3</th>\n",
       "    </tr>\n",
       "  </thead>\n",
       "  <tbody>\n",
       "    <tr>\n",
       "      <th>0</th>\n",
       "      <td>NaN</td>\n",
       "      <td>Drama</td>\n",
       "      <td>NaN</td>\n",
       "      <td>NaN</td>\n",
       "      <td>J.S. Randhawa</td>\n",
       "      <td>Manmauji</td>\n",
       "      <td>Birbal</td>\n",
       "      <td>Rajendra Bhatia</td>\n",
       "    </tr>\n",
       "    <tr>\n",
       "      <th>1</th>\n",
       "      <td>(2019)</td>\n",
       "      <td>Drama</td>\n",
       "      <td>7.0</td>\n",
       "      <td>8</td>\n",
       "      <td>Gaurav Bakshi</td>\n",
       "      <td>Rasika Dugal</td>\n",
       "      <td>Vivek Ghamande</td>\n",
       "      <td>Arvind Jangid</td>\n",
       "    </tr>\n",
       "    <tr>\n",
       "      <th>2</th>\n",
       "      <td>(2021)</td>\n",
       "      <td>Drama, Musical</td>\n",
       "      <td>NaN</td>\n",
       "      <td>NaN</td>\n",
       "      <td>Soumyajit Majumdar</td>\n",
       "      <td>Sayani Gupta</td>\n",
       "      <td>Plabita Borthakur</td>\n",
       "      <td>Roy Angana</td>\n",
       "    </tr>\n",
       "    <tr>\n",
       "      <th>3</th>\n",
       "      <td>(2019)</td>\n",
       "      <td>Comedy, Romance</td>\n",
       "      <td>4.4</td>\n",
       "      <td>35</td>\n",
       "      <td>Ovais Khan</td>\n",
       "      <td>Prateik</td>\n",
       "      <td>Ishita Raj</td>\n",
       "      <td>Siddhant Kapoor</td>\n",
       "    </tr>\n",
       "    <tr>\n",
       "      <th>4</th>\n",
       "      <td>(2010)</td>\n",
       "      <td>Drama</td>\n",
       "      <td>NaN</td>\n",
       "      <td>NaN</td>\n",
       "      <td>Amol Palekar</td>\n",
       "      <td>Rajat Kapoor</td>\n",
       "      <td>Rituparna Sengupta</td>\n",
       "      <td>Antara Mali</td>\n",
       "    </tr>\n",
       "  </tbody>\n",
       "</table>\n",
       "</div>"
      ],
      "text/plain": [
       "     Year            Genre  Rating Votes            Director       Actor 1  \\\n",
       "0     NaN            Drama     NaN   NaN       J.S. Randhawa      Manmauji   \n",
       "1  (2019)            Drama     7.0     8       Gaurav Bakshi  Rasika Dugal   \n",
       "2  (2021)   Drama, Musical     NaN   NaN  Soumyajit Majumdar  Sayani Gupta   \n",
       "3  (2019)  Comedy, Romance     4.4    35          Ovais Khan       Prateik   \n",
       "4  (2010)            Drama     NaN   NaN        Amol Palekar  Rajat Kapoor   \n",
       "\n",
       "              Actor 2          Actor 3  \n",
       "0              Birbal  Rajendra Bhatia  \n",
       "1      Vivek Ghamande    Arvind Jangid  \n",
       "2   Plabita Borthakur       Roy Angana  \n",
       "3          Ishita Raj  Siddhant Kapoor  \n",
       "4  Rituparna Sengupta      Antara Mali  "
      ]
     },
     "execution_count": 5,
     "metadata": {},
     "output_type": "execute_result"
    }
   ],
   "source": [
    "df.drop(columns=['Name','Duration'],axis=1,inplace=True)\n",
    "df.head()"
   ]
  },
  {
   "cell_type": "code",
   "execution_count": 6,
   "id": "7db66195",
   "metadata": {
    "execution": {
     "iopub.execute_input": "2024-06-14T05:25:15.343086Z",
     "iopub.status.busy": "2024-06-14T05:25:15.342167Z",
     "iopub.status.idle": "2024-06-14T05:25:15.363038Z",
     "shell.execute_reply": "2024-06-14T05:25:15.361974Z"
    },
    "papermill": {
     "duration": 0.033988,
     "end_time": "2024-06-14T05:25:15.365396",
     "exception": false,
     "start_time": "2024-06-14T05:25:15.331408",
     "status": "completed"
    },
    "tags": []
   },
   "outputs": [
    {
     "data": {
      "text/plain": [
       "Year         102\n",
       "Genre        485\n",
       "Rating        84\n",
       "Votes       2034\n",
       "Director    5938\n",
       "Actor 1     4718\n",
       "Actor 2     4891\n",
       "Actor 3     4820\n",
       "dtype: int64"
      ]
     },
     "execution_count": 6,
     "metadata": {},
     "output_type": "execute_result"
    }
   ],
   "source": [
    "df.nunique()"
   ]
  },
  {
   "cell_type": "markdown",
   "id": "d4d9acbd",
   "metadata": {
    "papermill": {
     "duration": 0.010232,
     "end_time": "2024-06-14T05:25:15.385405",
     "exception": false,
     "start_time": "2024-06-14T05:25:15.375173",
     "status": "completed"
    },
    "tags": []
   },
   "source": [
    "## **Fill empty spaces with mean and mode values**"
   ]
  },
  {
   "cell_type": "code",
   "execution_count": 7,
   "id": "a1af0535",
   "metadata": {
    "execution": {
     "iopub.execute_input": "2024-06-14T05:25:15.407074Z",
     "iopub.status.busy": "2024-06-14T05:25:15.406134Z",
     "iopub.status.idle": "2024-06-14T05:25:15.412193Z",
     "shell.execute_reply": "2024-06-14T05:25:15.411270Z"
    },
    "papermill": {
     "duration": 0.01923,
     "end_time": "2024-06-14T05:25:15.414451",
     "exception": false,
     "start_time": "2024-06-14T05:25:15.395221",
     "status": "completed"
    },
    "tags": []
   },
   "outputs": [],
   "source": [
    "df['Rating'].fillna(df['Rating'].mean(),inplace=True)"
   ]
  },
  {
   "cell_type": "code",
   "execution_count": 8,
   "id": "d5bee0ce",
   "metadata": {
    "execution": {
     "iopub.execute_input": "2024-06-14T05:25:15.436206Z",
     "iopub.status.busy": "2024-06-14T05:25:15.435804Z",
     "iopub.status.idle": "2024-06-14T05:25:15.442165Z",
     "shell.execute_reply": "2024-06-14T05:25:15.441042Z"
    },
    "papermill": {
     "duration": 0.020502,
     "end_time": "2024-06-14T05:25:15.444772",
     "exception": false,
     "start_time": "2024-06-14T05:25:15.424270",
     "status": "completed"
    },
    "tags": []
   },
   "outputs": [
    {
     "name": "stdout",
     "output_type": "stream",
     "text": [
      "['Year', 'Genre', 'Votes', 'Director', 'Actor 1', 'Actor 2', 'Actor 3']\n"
     ]
    }
   ],
   "source": [
    "cat = list(df.columns[df.dtypes=='object'])\n",
    "print(cat)"
   ]
  },
  {
   "cell_type": "code",
   "execution_count": 9,
   "id": "cd393a22",
   "metadata": {
    "execution": {
     "iopub.execute_input": "2024-06-14T05:25:15.466757Z",
     "iopub.status.busy": "2024-06-14T05:25:15.466053Z",
     "iopub.status.idle": "2024-06-14T05:25:15.511313Z",
     "shell.execute_reply": "2024-06-14T05:25:15.510303Z"
    },
    "papermill": {
     "duration": 0.059479,
     "end_time": "2024-06-14T05:25:15.514129",
     "exception": false,
     "start_time": "2024-06-14T05:25:15.454650",
     "status": "completed"
    },
    "tags": []
   },
   "outputs": [],
   "source": [
    "for i in cat:\n",
    "    df[i].fillna(df[i].mode()[0],inplace=True)"
   ]
  },
  {
   "cell_type": "code",
   "execution_count": 10,
   "id": "5541984a",
   "metadata": {
    "execution": {
     "iopub.execute_input": "2024-06-14T05:25:15.535967Z",
     "iopub.status.busy": "2024-06-14T05:25:15.535549Z",
     "iopub.status.idle": "2024-06-14T05:25:15.558487Z",
     "shell.execute_reply": "2024-06-14T05:25:15.557587Z"
    },
    "papermill": {
     "duration": 0.036723,
     "end_time": "2024-06-14T05:25:15.560853",
     "exception": false,
     "start_time": "2024-06-14T05:25:15.524130",
     "status": "completed"
    },
    "tags": []
   },
   "outputs": [
    {
     "data": {
      "text/plain": [
       "Year        0\n",
       "Genre       0\n",
       "Rating      0\n",
       "Votes       0\n",
       "Director    0\n",
       "Actor 1     0\n",
       "Actor 2     0\n",
       "Actor 3     0\n",
       "dtype: int64"
      ]
     },
     "execution_count": 10,
     "metadata": {},
     "output_type": "execute_result"
    }
   ],
   "source": [
    "df.isna().sum()"
   ]
  },
  {
   "cell_type": "markdown",
   "id": "37551758",
   "metadata": {
    "papermill": {
     "duration": 0.009772,
     "end_time": "2024-06-14T05:25:15.580748",
     "exception": false,
     "start_time": "2024-06-14T05:25:15.570976",
     "status": "completed"
    },
    "tags": []
   },
   "source": [
    "## **Converting \"Year\" and \"Votes\" to integer**"
   ]
  },
  {
   "cell_type": "code",
   "execution_count": 11,
   "id": "4c77bc4a",
   "metadata": {
    "execution": {
     "iopub.execute_input": "2024-06-14T05:25:15.602413Z",
     "iopub.status.busy": "2024-06-14T05:25:15.602024Z",
     "iopub.status.idle": "2024-06-14T05:25:15.650793Z",
     "shell.execute_reply": "2024-06-14T05:25:15.649493Z"
    },
    "papermill": {
     "duration": 0.062505,
     "end_time": "2024-06-14T05:25:15.653578",
     "exception": false,
     "start_time": "2024-06-14T05:25:15.591073",
     "status": "completed"
    },
    "tags": []
   },
   "outputs": [],
   "source": [
    "df['Year'] = df['Year'].astype(str)\n",
    "df['Votes'] = df['Votes'].astype(str)\n",
    "df['Year'] = df['Year'].str.strip('()').astype(int)\n",
    "df['Votes'] = df['Votes'].str.replace(',','')\n",
    "df['Votes'] = df['Votes'].str.replace('.','')\n",
    "df['Votes'] = df['Votes'].str.strip('$')\n",
    "df['Votes'] = df['Votes'].str.strip('M')\n",
    "df['Votes'] = df['Votes'].astype(int)"
   ]
  },
  {
   "cell_type": "markdown",
   "id": "f86d5ece",
   "metadata": {
    "papermill": {
     "duration": 0.009751,
     "end_time": "2024-06-14T05:25:15.673281",
     "exception": false,
     "start_time": "2024-06-14T05:25:15.663530",
     "status": "completed"
    },
    "tags": []
   },
   "source": [
    "## **Categorical Fields**"
   ]
  },
  {
   "cell_type": "code",
   "execution_count": 12,
   "id": "6ad1d5fa",
   "metadata": {
    "execution": {
     "iopub.execute_input": "2024-06-14T05:25:15.695864Z",
     "iopub.status.busy": "2024-06-14T05:25:15.694878Z",
     "iopub.status.idle": "2024-06-14T05:25:15.701913Z",
     "shell.execute_reply": "2024-06-14T05:25:15.700646Z"
    },
    "papermill": {
     "duration": 0.020759,
     "end_time": "2024-06-14T05:25:15.704205",
     "exception": false,
     "start_time": "2024-06-14T05:25:15.683446",
     "status": "completed"
    },
    "tags": []
   },
   "outputs": [
    {
     "name": "stdout",
     "output_type": "stream",
     "text": [
      "['Genre', 'Director', 'Actor 1', 'Actor 2', 'Actor 3']\n"
     ]
    }
   ],
   "source": [
    "cat = list(df.columns[df.dtypes=='object'])\n",
    "print(cat)"
   ]
  },
  {
   "cell_type": "markdown",
   "id": "9bceee78",
   "metadata": {
    "papermill": {
     "duration": 0.009945,
     "end_time": "2024-06-14T05:25:15.724239",
     "exception": false,
     "start_time": "2024-06-14T05:25:15.714294",
     "status": "completed"
    },
    "tags": []
   },
   "source": [
    "## **Final Encoding**"
   ]
  },
  {
   "cell_type": "code",
   "execution_count": 13,
   "id": "f884173f",
   "metadata": {
    "execution": {
     "iopub.execute_input": "2024-06-14T05:25:15.746635Z",
     "iopub.status.busy": "2024-06-14T05:25:15.745849Z",
     "iopub.status.idle": "2024-06-14T05:25:15.819796Z",
     "shell.execute_reply": "2024-06-14T05:25:15.818723Z"
    },
    "papermill": {
     "duration": 0.08779,
     "end_time": "2024-06-14T05:25:15.822179",
     "exception": false,
     "start_time": "2024-06-14T05:25:15.734389",
     "status": "completed"
    },
    "tags": []
   },
   "outputs": [
    {
     "data": {
      "text/html": [
       "<div>\n",
       "<style scoped>\n",
       "    .dataframe tbody tr th:only-of-type {\n",
       "        vertical-align: middle;\n",
       "    }\n",
       "\n",
       "    .dataframe tbody tr th {\n",
       "        vertical-align: top;\n",
       "    }\n",
       "\n",
       "    .dataframe thead th {\n",
       "        text-align: right;\n",
       "    }\n",
       "</style>\n",
       "<table border=\"1\" class=\"dataframe\">\n",
       "  <thead>\n",
       "    <tr style=\"text-align: right;\">\n",
       "      <th></th>\n",
       "      <th>Year</th>\n",
       "      <th>Rating</th>\n",
       "      <th>Genre encoded</th>\n",
       "      <th>Votes encoded</th>\n",
       "      <th>Director encoded</th>\n",
       "      <th>Actor 1 encoded</th>\n",
       "      <th>Actor 2 encoded</th>\n",
       "      <th>Actor 3 encoded</th>\n",
       "    </tr>\n",
       "  </thead>\n",
       "  <tbody>\n",
       "    <tr>\n",
       "      <th>0</th>\n",
       "      <td>2019</td>\n",
       "      <td>5.8</td>\n",
       "      <td>6.0</td>\n",
       "      <td>5.8</td>\n",
       "      <td>5.8</td>\n",
       "      <td>5.8</td>\n",
       "      <td>5.5</td>\n",
       "      <td>5.8</td>\n",
       "    </tr>\n",
       "    <tr>\n",
       "      <th>1</th>\n",
       "      <td>2019</td>\n",
       "      <td>7.0</td>\n",
       "      <td>6.0</td>\n",
       "      <td>5.8</td>\n",
       "      <td>7.0</td>\n",
       "      <td>6.8</td>\n",
       "      <td>7.0</td>\n",
       "      <td>7.0</td>\n",
       "    </tr>\n",
       "    <tr>\n",
       "      <th>2</th>\n",
       "      <td>2021</td>\n",
       "      <td>5.8</td>\n",
       "      <td>6.3</td>\n",
       "      <td>5.8</td>\n",
       "      <td>5.8</td>\n",
       "      <td>6.2</td>\n",
       "      <td>6.8</td>\n",
       "      <td>5.8</td>\n",
       "    </tr>\n",
       "    <tr>\n",
       "      <th>3</th>\n",
       "      <td>2019</td>\n",
       "      <td>4.4</td>\n",
       "      <td>5.7</td>\n",
       "      <td>5.9</td>\n",
       "      <td>4.4</td>\n",
       "      <td>5.4</td>\n",
       "      <td>4.4</td>\n",
       "      <td>4.4</td>\n",
       "    </tr>\n",
       "    <tr>\n",
       "      <th>4</th>\n",
       "      <td>2010</td>\n",
       "      <td>5.8</td>\n",
       "      <td>6.0</td>\n",
       "      <td>5.8</td>\n",
       "      <td>6.3</td>\n",
       "      <td>6.8</td>\n",
       "      <td>5.8</td>\n",
       "      <td>5.5</td>\n",
       "    </tr>\n",
       "  </tbody>\n",
       "</table>\n",
       "</div>"
      ],
      "text/plain": [
       "   Year  Rating  Genre encoded  Votes encoded  Director encoded  \\\n",
       "0  2019     5.8            6.0            5.8               5.8   \n",
       "1  2019     7.0            6.0            5.8               7.0   \n",
       "2  2021     5.8            6.3            5.8               5.8   \n",
       "3  2019     4.4            5.7            5.9               4.4   \n",
       "4  2010     5.8            6.0            5.8               6.3   \n",
       "\n",
       "   Actor 1 encoded  Actor 2 encoded  Actor 3 encoded  \n",
       "0              5.8              5.5              5.8  \n",
       "1              6.8              7.0              7.0  \n",
       "2              6.2              6.8              5.8  \n",
       "3              5.4              4.4              4.4  \n",
       "4              6.8              5.8              5.5  "
      ]
     },
     "execution_count": 13,
     "metadata": {},
     "output_type": "execute_result"
    }
   ],
   "source": [
    "df['Genre encoded'] = round(df.groupby('Genre')['Rating'].transform('mean'),1)\n",
    "df['Votes encoded'] = round(df.groupby('Votes')['Rating'].transform('mean'),1)\n",
    "df['Director encoded'] = round(df.groupby('Director')['Rating'].transform('mean'),1)\n",
    "df['Actor 1 encoded'] = round(df.groupby('Actor 1')['Rating'].transform('mean'),1)\n",
    "df['Actor 2 encoded'] = round(df.groupby('Actor 2')['Rating'].transform('mean'),1)\n",
    "df['Actor 3 encoded'] = round(df.groupby('Actor 3')['Rating'].transform('mean'),1)\n",
    "\n",
    "df.drop(columns=['Genre','Votes','Director','Actor 1','Actor 2','Actor 3'],inplace=True)\n",
    "df['Rating'] = round(df['Rating'],1)\n",
    "df.head()"
   ]
  },
  {
   "cell_type": "markdown",
   "id": "f2d8d9af",
   "metadata": {
    "papermill": {
     "duration": 0.009667,
     "end_time": "2024-06-14T05:25:15.842329",
     "exception": false,
     "start_time": "2024-06-14T05:25:15.832662",
     "status": "completed"
    },
    "tags": []
   },
   "source": [
    "## **Split the Dataset for Training and Testing**"
   ]
  },
  {
   "cell_type": "code",
   "execution_count": 14,
   "id": "423cca1b",
   "metadata": {
    "execution": {
     "iopub.execute_input": "2024-06-14T05:25:15.865125Z",
     "iopub.status.busy": "2024-06-14T05:25:15.864112Z",
     "iopub.status.idle": "2024-06-14T05:25:15.872010Z",
     "shell.execute_reply": "2024-06-14T05:25:15.870842Z"
    },
    "papermill": {
     "duration": 0.022101,
     "end_time": "2024-06-14T05:25:15.874374",
     "exception": false,
     "start_time": "2024-06-14T05:25:15.852273",
     "status": "completed"
    },
    "tags": []
   },
   "outputs": [],
   "source": [
    "x = df.drop(columns='Rating')\n",
    "y = df[['Rating']]"
   ]
  },
  {
   "cell_type": "code",
   "execution_count": 15,
   "id": "ece2da89",
   "metadata": {
    "execution": {
     "iopub.execute_input": "2024-06-14T05:25:15.897201Z",
     "iopub.status.busy": "2024-06-14T05:25:15.896202Z",
     "iopub.status.idle": "2024-06-14T05:25:15.908757Z",
     "shell.execute_reply": "2024-06-14T05:25:15.907886Z"
    },
    "papermill": {
     "duration": 0.026499,
     "end_time": "2024-06-14T05:25:15.911041",
     "exception": false,
     "start_time": "2024-06-14T05:25:15.884542",
     "status": "completed"
    },
    "tags": []
   },
   "outputs": [],
   "source": [
    "xtrain, xtest,ytrain, ytest = train_test_split(x,y,test_size=0.25,random_state=42,shuffle=True)"
   ]
  },
  {
   "cell_type": "code",
   "execution_count": 16,
   "id": "ac1ee691",
   "metadata": {
    "execution": {
     "iopub.execute_input": "2024-06-14T05:25:15.934328Z",
     "iopub.status.busy": "2024-06-14T05:25:15.933386Z",
     "iopub.status.idle": "2024-06-14T05:25:15.939480Z",
     "shell.execute_reply": "2024-06-14T05:25:15.938327Z"
    },
    "papermill": {
     "duration": 0.020337,
     "end_time": "2024-06-14T05:25:15.941961",
     "exception": false,
     "start_time": "2024-06-14T05:25:15.921624",
     "status": "completed"
    },
    "tags": []
   },
   "outputs": [
    {
     "name": "stdout",
     "output_type": "stream",
     "text": [
      "X Train :  (11627, 7) |  Y Train :  (11627, 1)\n",
      "X Test  :  (3876, 7)  |  Y Test  :  (3876, 1)\n"
     ]
    }
   ],
   "source": [
    "print(\"X Train : \",xtrain.shape,\"|  Y Train : \",ytrain.shape)\n",
    "print(\"X Test  : \",xtest.shape,\" |  Y Test  : \",ytest.shape)"
   ]
  },
  {
   "cell_type": "markdown",
   "id": "b8a72ff6",
   "metadata": {
    "papermill": {
     "duration": 0.01008,
     "end_time": "2024-06-14T05:25:15.962347",
     "exception": false,
     "start_time": "2024-06-14T05:25:15.952267",
     "status": "completed"
    },
    "tags": []
   },
   "source": [
    "## **Models**"
   ]
  },
  {
   "cell_type": "code",
   "execution_count": 17,
   "id": "276d5d3f",
   "metadata": {
    "execution": {
     "iopub.execute_input": "2024-06-14T05:25:15.984762Z",
     "iopub.status.busy": "2024-06-14T05:25:15.983936Z",
     "iopub.status.idle": "2024-06-14T05:25:15.993030Z",
     "shell.execute_reply": "2024-06-14T05:25:15.991676Z"
    },
    "papermill": {
     "duration": 0.022826,
     "end_time": "2024-06-14T05:25:15.995389",
     "exception": false,
     "start_time": "2024-06-14T05:25:15.972563",
     "status": "completed"
    },
    "tags": []
   },
   "outputs": [
    {
     "name": "stdout",
     "output_type": "stream",
     "text": [
      "dict_items([('DecisionTree', DecisionTreeRegressor()), ('RandomForest', RandomForestRegressor()), ('KNeighbors', KNeighborsRegressor())])\n"
     ]
    }
   ],
   "source": [
    "models={'DecisionTree':DecisionTreeRegressor(),'RandomForest':RandomForestRegressor(),'KNeighbors':KNeighborsRegressor()}\n",
    "print(models.items())"
   ]
  },
  {
   "cell_type": "markdown",
   "id": "75b27157",
   "metadata": {
    "papermill": {
     "duration": 0.01028,
     "end_time": "2024-06-14T05:25:16.016383",
     "exception": false,
     "start_time": "2024-06-14T05:25:16.006103",
     "status": "completed"
    },
    "tags": []
   },
   "source": [
    "## **Training, Testing and Results of the Models**"
   ]
  },
  {
   "cell_type": "code",
   "execution_count": 18,
   "id": "90bb026a",
   "metadata": {
    "execution": {
     "iopub.execute_input": "2024-06-14T05:25:16.038952Z",
     "iopub.status.busy": "2024-06-14T05:25:16.038564Z",
     "iopub.status.idle": "2024-06-14T05:25:25.249104Z",
     "shell.execute_reply": "2024-06-14T05:25:25.247928Z"
    },
    "papermill": {
     "duration": 9.224738,
     "end_time": "2024-06-14T05:25:25.251466",
     "exception": false,
     "start_time": "2024-06-14T05:25:16.026728",
     "status": "completed"
    },
    "tags": []
   },
   "outputs": [
    {
     "name": "stdout",
     "output_type": "stream",
     "text": [
      "Scores for DecisionTree\n",
      "     MSE : 0.42115874899667466\n",
      "      R2 : 0.5759772467013854\n",
      "      CV : 55.570478069446324\n",
      "===============================\n",
      "Scores for RandomForest\n",
      "     MSE : 0.2016404368968769\n",
      "      R2 : 0.7969883483768625\n",
      "      CV : 77.65003095855639\n",
      "===============================\n",
      "Scores for KNeighbors\n",
      "     MSE : 0.28137512899896805\n",
      "      R2 : 0.7167114367394103\n",
      "      CV : 67.73174626853063\n",
      "===============================\n"
     ]
    }
   ],
   "source": [
    "for name,model in models.items():\n",
    "    m = model.fit(xtrain,ytrain)\n",
    "    ypred = m.predict(xtest)\n",
    "    msetest = mean_squared_error(ytest,ypred)\n",
    "    r2test = (r2_score(ytest,ypred))\n",
    "    cv = cross_val_score(m,xtest,ytest,cv=5,scoring='r2')\n",
    "    scores = (cv.mean())*100\n",
    "\n",
    "    print(f'Scores for {name}')\n",
    "    print(f'     MSE : {msetest}')\n",
    "    print(f'      R2 : {r2test}')\n",
    "    print(f'      CV : {scores}')\n",
    "    print(\"===============================\")"
   ]
  },
  {
   "cell_type": "markdown",
   "id": "4a541673",
   "metadata": {
    "papermill": {
     "duration": 0.010356,
     "end_time": "2024-06-14T05:25:25.272466",
     "exception": false,
     "start_time": "2024-06-14T05:25:25.262110",
     "status": "completed"
    },
    "tags": []
   },
   "source": [
    "## **Conclusion**\n",
    "**Based on the evaluation, the RandomForest model stands out with the highest cross-validated R² of 77.67, indicating it generalizes best to unseen data and offers consistent performance. While KNeighbors also shows good performance with a cross-validated R² of 67.73, it's less robust than RandomForest but still better than DecisionTree, which, despite being easier to interpret, has a lower cross-validated R² of 55.95 and is more prone to overfitting. Therefore, RandomForest is the recommended model for this dataset due to its superior predictive power and reliability.**"
   ]
  }
 ],
 "metadata": {
  "kaggle": {
   "accelerator": "none",
   "dataSources": [
    {
     "datasetId": 1416444,
     "sourceId": 2346296,
     "sourceType": "datasetVersion"
    }
   ],
   "dockerImageVersionId": 30732,
   "isGpuEnabled": false,
   "isInternetEnabled": false,
   "language": "python",
   "sourceType": "notebook"
  },
  "kernelspec": {
   "display_name": "Python 3",
   "language": "python",
   "name": "python3"
  },
  "language_info": {
   "codemirror_mode": {
    "name": "ipython",
    "version": 3
   },
   "file_extension": ".py",
   "mimetype": "text/x-python",
   "name": "python",
   "nbconvert_exporter": "python",
   "pygments_lexer": "ipython3",
   "version": "3.10.13"
  },
  "papermill": {
   "default_parameters": {},
   "duration": 16.258169,
   "end_time": "2024-06-14T05:25:25.904786",
   "environment_variables": {},
   "exception": null,
   "input_path": "__notebook__.ipynb",
   "output_path": "__notebook__.ipynb",
   "parameters": {},
   "start_time": "2024-06-14T05:25:09.646617",
   "version": "2.5.0"
  }
 },
 "nbformat": 4,
 "nbformat_minor": 5
}
